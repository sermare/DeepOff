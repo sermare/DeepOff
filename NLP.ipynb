{
 "cells": [
  {
   "cell_type": "code",
   "execution_count": 4,
   "id": "4d9c6fa2",
   "metadata": {},
   "outputs": [
    {
     "name": "stdout",
     "output_type": "stream",
     "text": [
      "0\n"
     ]
    }
   ],
   "source": [
    "import os\n",
    "from subprocess import PIPE, run\n",
    "import time\n",
    "import pandas as pd\n",
    "import numpy as np \n",
    "\n",
    "def getKmers(sequence, size=6):\n",
    "    return [sequence[x:x+size].lower() for x in range(len(sequence) - size + 1)]\n",
    "\n",
    "Data = pd.read_csv('/Users/sergiomares/Desktop/Nunez/Jin file/TSS_CpG_crispriphenotype_table.txt', delimiter = '\\t',header = 0)\n",
    "\n",
    "b = []\n",
    "\n",
    "for i in range (1000):\n",
    "    data = run(['curl', ('http://togows.org/api/ucsc/hg19/'+ str(Data['chromosome'][i])+':'+str(int(Data[\"Primary TSS, 5'\"][i]-1000))+'-'+str(Data[\"Primary TSS, 5'\"][i]+1000)+'.fasta/')], stdout=PIPE, stderr=PIPE, universal_newlines=True).stdout[:].replace('\\n','')    \n",
    "    b.append(data)\n",
    "    if i % 1000 == 0: print(i)\n",
    "    \n",
    "#It took 106 minutes to comlpete all the sequences for 2.5 kb \n",
    "\n",
    "# 17 min for current states on 3000 only\n",
    "#6000 took 36.15 min"
   ]
  },
  {
   "cell_type": "code",
   "execution_count": 5,
   "id": "c20464cc",
   "metadata": {},
   "outputs": [
    {
     "name": "stdout",
     "output_type": "stream",
     "text": [
      "0\n"
     ]
    },
    {
     "name": "stderr",
     "output_type": "stream",
     "text": [
      "/var/folders/pj/0dd0rqzj219164nwyh4f2l580000gn/T/ipykernel_69034/2545878817.py:18: FutureWarning: The default value of regex will change from True to False in a future version. In addition, single character regular expressions will *not* be treated as literal strings when regex=True.\n",
      "  Promoter_sequences[0] = Promoter_sequences[0].str.replace(\"'\", \"\").str.replace(\" \", \"\").str.replace(\"(\", \"\").str.replace(\")\", \"\").str.replace(\">hg19:\", \"\")\n"
     ]
    }
   ],
   "source": [
    "Promoter_sequences = pd.DataFrame(b)\n",
    "\n",
    "# Get all permutations of [1, 2, 3]\n",
    "perm = ['A','C','G','T']\n",
    "nucleotides = []\n",
    "\n",
    "for p in range(1):\n",
    "    for i in list(perm):\n",
    "            for x in range(10):\n",
    "                temp = '%s%s' % (x, i)\n",
    "                nucleotides.append(temp)\n",
    "    for z in range(len(Promoter_sequences)):\n",
    "            for h in list(nucleotides):\n",
    "                Promoter_sequences[0][z] = Promoter_sequences[0][z].replace(h,str((h[0],h[1])))\n",
    "            if z % 1000 == 0:\n",
    "                print(z)\n",
    "\n",
    "Promoter_sequences[0] = Promoter_sequences[0].str.replace(\"'\", \"\").str.replace(\" \", \"\").str.replace(\"(\", \"\").str.replace(\")\", \"\").str.replace(\">hg19:\", \"\")\n",
    "Promoter_sequences = Promoter_sequences[0].str.split(\",\", expand = True)\n",
    "\n",
    "Promoter_sequences[2] = Promoter_sequences.apply(lambda x: getKmers(x[1], 3), axis = 1)\n",
    "Promoter_sequences = Promoter_sequences.drop(1, axis =1 )\n",
    "Promoter_sequences = Promoter_sequences.drop(0, axis =1 )\n",
    "\n",
    "Promoter_sequences[3] =  pd.DataFrame([1 if x != '[]' else 0 for x in Data['CpG_location']])"
   ]
  },
  {
   "cell_type": "code",
   "execution_count": 6,
   "id": "cfa0e3ac",
   "metadata": {},
   "outputs": [],
   "source": [
    "Promoters_text = list(Promoter_sequences[2])\n",
    "for item in range(len(Promoters_text)):\n",
    "    Promoters_text[item] = ' '.join(Promoters_text[item])\n",
    "y_data = Promoter_sequences.iloc[:, 1].values                         "
   ]
  },
  {
   "cell_type": "code",
   "execution_count": 34,
   "id": "4caf62f5",
   "metadata": {},
   "outputs": [
    {
     "name": "stdout",
     "output_type": "stream",
     "text": [
      "(1000, 64)\n"
     ]
    }
   ],
   "source": [
    "from sklearn.model_selection import train_test_split\n",
    "X_train, X_test, y_train, y_test = train_test_split(X, y_data, test_size = 0.20, random_state=42)\n",
    "\n",
    "from sklearn.feature_extraction.text import CountVectorizer\n",
    "cv = CountVectorizer()\n",
    "#cv = CountVectorizer(ngram_range=(3,100))\n",
    "X = cv.fit_transform(Promoters_text)\n",
    "\n",
    "print(X.shape)"
   ]
  },
  {
   "cell_type": "code",
   "execution_count": 8,
   "id": "7544017b",
   "metadata": {},
   "outputs": [
    {
     "data": {
      "text/plain": [
       "<AxesSubplot:>"
      ]
     },
     "execution_count": 8,
     "metadata": {},
     "output_type": "execute_result"
    },
    {
     "data": {
      "image/png": "[encoded data removed]",
      "text/plain": [
       "<Figure size 432x288 with 1 Axes>"
      ]
     },
     "metadata": {
      "needs_background": "light"
     },
     "output_type": "display_data"
    }
   ],
   "source": [
    "Promoter_sequences[3].value_counts().sort_index().plot.bar()"
   ]
  },
  {
   "cell_type": "code",
   "execution_count": 37,
   "id": "7d7144d8",
   "metadata": {},
   "outputs": [
    {
     "data": {
      "text/plain": [
       "MultinomialNB(alpha=0.1)"
      ]
     },
     "execution_count": 37,
     "metadata": {},
     "output_type": "execute_result"
    }
   ],
   "source": [
    "from sklearn.naive_bayes import MultinomialNB\n",
    "classifier = MultinomialNB(alpha=0.1)\n",
    "classifier.fit(X_train, y_train)"
   ]
  },
  {
   "cell_type": "code",
   "execution_count": 43,
   "id": "40892203",
   "metadata": {},
   "outputs": [
    {
     "data": {
      "text/plain": [
       "(200,)"
      ]
     },
     "execution_count": 43,
     "metadata": {},
     "output_type": "execute_result"
    }
   ],
   "source": [
    "y_pred = classifier.predict(X_test)"
   ]
  },
  {
   "cell_type": "code",
   "execution_count": 39,
   "id": "5e0c1f72",
   "metadata": {},
   "outputs": [
    {
     "name": "stdout",
     "output_type": "stream",
     "text": [
      "Confusion matrix\n",
      "\n",
      "Predicted   0    1\n",
      "Actual            \n",
      "0          48    9\n",
      "1          16  127\n",
      "accuracy = 0.875 \n",
      "precision = 0.881 \n",
      "recall = 0.875 \n",
      "f1 = 0.877\n"
     ]
    }
   ],
   "source": [
    "from sklearn.metrics import accuracy_score, f1_score, precision_score, recall_score\n",
    "print(\"Confusion matrix\\n\")\n",
    "print(pd.crosstab(pd.Series(y_test, name='Actual'), pd.Series(y_pred, name='Predicted')))\n",
    "def get_metrics(y_test, y_predicted):\n",
    "    accuracy = accuracy_score(y_test, y_predicted)\n",
    "    precision = precision_score(y_test, y_predicted, average='weighted')\n",
    "    recall = recall_score(y_test, y_predicted, average='weighted')\n",
    "    f1 = f1_score(y_test, y_predicted, average='weighted')\n",
    "    return accuracy, precision, recall, f1\n",
    "accuracy, precision, recall, f1 = get_metrics(y_test, y_pred)\n",
    "print(\"accuracy = %.3f \\nprecision = %.3f \\nrecall = %.3f \\nf1 = %.3f\" % (accuracy, precision, recall, f1))"
   ]
  },
  {
   "cell_type": "code",
   "execution_count": 133,
   "id": "ff8e3b1d",
   "metadata": {},
   "outputs": [
    {
     "name": "stderr",
     "output_type": "stream",
     "text": [
      "/Users/sergiomares/miniconda3/envs/tf/lib/python3.9/site-packages/sklearn/utils/deprecation.py:87: FutureWarning: Function get_feature_names is deprecated; get_feature_names is deprecated in 1.0 and will be removed in 1.2. Please use get_feature_names_out instead.\n",
      "  warnings.warn(msg, category=FutureWarning)\n",
      "/Users/sergiomares/miniconda3/envs/tf/lib/python3.9/site-packages/sklearn/utils/deprecation.py:103: FutureWarning: Attribute `coef_` was deprecated in version 0.24 and will be removed in 1.1 (renaming of 0.26).\n",
      "  warnings.warn(msg, category=FutureWarning)\n"
     ]
    },
    {
     "data": {
      "image/png": "[encoded data removed]",
      "text/plain": [
       "<Figure size 2880x720 with 1 Axes>"
      ]
     },
     "metadata": {
      "needs_background": "light"
     },
     "output_type": "display_data"
    }
   ],
   "source": [
    "import matplotlib.pyplot as plt\n",
    "\n",
    "weights = pd.DataFrame([cv.get_feature_names(), classifier.coef_[0]]).T\n",
    "\n",
    "weights.sort_values(by = 1)\n",
    "\n",
    "plt.bar(weights[0],weights[1])\n",
    "plt.rcParams[\"figure.figsize\"] = (40,10)\n",
    "plt.show()\n"
   ]
  }
 ],
 "metadata": {
  "kernelspec": {
   "display_name": "Python 3 (ipykernel)",
   "language": "python",
   "name": "python3"
  },
  "language_info": {
   "codemirror_mode": {
    "name": "ipython",
    "version": 3
   },
   "file_extension": ".py",
   "mimetype": "text/x-python",
   "name": "python",
   "nbconvert_exporter": "python",
   "pygments_lexer": "ipython3",
   "version": "3.9.9"
  }
 },
 "nbformat": 4,
 "nbformat_minor": 5
}

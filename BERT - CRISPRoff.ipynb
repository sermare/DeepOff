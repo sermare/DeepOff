{
 "cells": [
  {
   "cell_type": "markdown",
   "id": "733f8cec",
   "metadata": {},
   "source": [
    "# Python Tutorial"
   ]
  },
  {
   "cell_type": "code",
   "execution_count": 1,
   "id": "af4bedb7",
   "metadata": {},
   "outputs": [],
   "source": [
    "n_sequences = 10"
   ]
  },
  {
   "cell_type": "code",
   "execution_count": 5,
   "id": "461719fa",
   "metadata": {},
   "outputs": [],
   "source": [
    "import os\n",
    "from subprocess import PIPE, run\n",
    "import time\n",
    "import pandas as pd\n",
    "import numpy as np \n",
    "import pprint\n",
    "import requests\n",
    "\n",
    "pp = pprint.PrettyPrinter()\n",
    "\n",
    "Data = pd.read_csv('/Users/sergiomares/Desktop/Nunez/Jin file/TSS_CpG_crispriphenotype_table.txt', delimiter = '\\t',header = 0)\n",
    "\n",
    "b = []\n",
    "\n",
    "for i in range (n_sequences):\n",
    "    datas = requests.get('http://togows.org/api/ucsc/hg19/'+ str(Data['chromosome'][i])+':'+str(int(Data[\"Primary TSS, 5'\"][i]-1000))+'-'+str(Data[\"Primary TSS, 5'\"][i]+1000)).text.replace('\\n','')    \n",
    "    b.append(datas)\n",
    "\n",
    "Promoter_sequences = pd.DataFrame(b)\n",
    "\n",
    "def getKmers(sequence, size=6):\n",
    "    return [sequence[x:x+size].lower() for x in range(len(sequence) - size + 1)]\n",
    "\n",
    "Promoter_sequences = Promoter_sequences.apply(lambda x: getKmers(x[0], 5), axis = 1)\n",
    "Promoter_sequences = pd.DataFrame(Promoter_sequences)\n",
    "\n",
    "Promoters_text = list(Promoter_sequences[0])\n",
    "\n",
    "for item in range(len(Promoter_sequences)):\n",
    "    Promoters_text[item] = ' '.join(Promoter_sequences[0][item])\n",
    "\n",
    "y_data = Promoter_sequences.iloc[:, 0].values     "
   ]
  },
  {
   "cell_type": "code",
   "execution_count": 25,
   "id": "c07f6531",
   "metadata": {},
   "outputs": [],
   "source": [
    "from bert import BertModelLayer\n",
    "\n",
    "from bert import tokenization, model\n",
    "\n",
    "from tokenizers import ByteLevelBPETokenizer\n",
    "\n",
    "tokenizer = ByteLevelBPETokenizer\n",
    "\n",
    "tokenizer.train()"
   ]
  }
 ],
 "metadata": {
  "kernelspec": {
   "display_name": "Python 3 (ipykernel)",
   "language": "python",
   "name": "python3"
  },
  "language_info": {
   "codemirror_mode": {
    "name": "ipython",
    "version": 3
   },
   "file_extension": ".py",
   "mimetype": "text/x-python",
   "name": "python",
   "nbconvert_exporter": "python",
   "pygments_lexer": "ipython3",
   "version": "3.9.9"
  }
 },
 "nbformat": 4,
 "nbformat_minor": 5
}

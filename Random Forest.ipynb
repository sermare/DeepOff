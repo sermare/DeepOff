{
 "cells": [
  {
   "cell_type": "code",
   "execution_count": 1,
   "id": "a622e70a",
   "metadata": {},
   "outputs": [],
   "source": [
    "import os\n",
    "from subprocess import PIPE, run\n",
    "import time\n",
    "import pandas as pd\n",
    "import numpy as np \n",
    "import pprint\n",
    "import requests\n"
   ]
  },
  {
   "cell_type": "markdown",
   "id": "0ce3e836",
   "metadata": {},
   "source": [
    "#### Data Bullshit"
   ]
  },
  {
   "cell_type": "code",
   "execution_count": 2,
   "id": "7a5d8080",
   "metadata": {},
   "outputs": [],
   "source": [
    "Data = pd.read_csv('/Users/sergiomares/Desktop/Nunez/Jin file/TSS_CpG_crispriphenotype_table.txt', delimiter = '\\t',header = 0)\n",
    "Data = Data.sort_values([\"gene\",'average phenotype of strongest 3'], ascending = True).drop_duplicates(subset = 'gene', keep = 'first')\n",
    "UCSC_TSS = pd.read_csv('UCSC_TSS.txt', delimiter = '\\t',header = 0)\n",
    "UCSC_TSS = UCSC_TSS.drop_duplicates() \n",
    "\n",
    "errors = []\n",
    "\n",
    "for gene in (Data['gene']):\n",
    "        try:\n",
    "                if len(UCSC_TSS[UCSC_TSS['hg19.kgXref.geneSymbol'] == gene][\"hg19.knownGene.txStart\"]) > 1:\n",
    "                        x = abs(UCSC_TSS[UCSC_TSS['hg19.kgXref.geneSymbol'] == gene][\"hg19.knownGene.txStart\"] - Data[Data['gene'] == gene][\"Primary TSS, 3'\"].iloc[-1]).min()\n",
    "                        Data.loc[Data['gene'] == gene, \"Primary TSS, 3'\"] = (int(Data[Data['gene'] == gene][\"Primary TSS, 3'\"].iloc[-1] - int(x) + 1))\n",
    "                else:\n",
    "                        x = UCSC_TSS[UCSC_TSS['hg19.kgXref.geneSymbol'] == gene][\"hg19.knownGene.txStart\"].iloc[-1]\n",
    "                        Data.loc[Data['gene'] == gene, \"Primary TSS, 3'\"] = int(x) + 1 \n",
    "              \n",
    "\n",
    "        except:\n",
    "            errors.append(gene)\n",
    "\n",
    "len(errors)\n",
    "\n",
    "Data = Data.reset_index()"
   ]
  },
  {
   "cell_type": "code",
   "execution_count": 3,
   "id": "a14d6f20",
   "metadata": {},
   "outputs": [],
   "source": [
    "Promoter_sequences = pd.read_csv('3kb_Promoter.sequences-2.csv', sep=',', header = 0)\n",
    "Promoter_sequences = pd.merge(how = 'outer', left = Promoter_sequences, right = Data, left_on = 'Gene', right_on = 'gene')\n",
    "Promoter_sequences = Promoter_sequences.dropna()"
   ]
  },
  {
   "cell_type": "code",
   "execution_count": 11,
   "id": "f406a5fc",
   "metadata": {},
   "outputs": [],
   "source": [
    "cpgs = pd.read_csv('1-s2-S0092867421003536-mmc3.csv',sep = ',',  header = 0)\n",
    "cpgs = pd.DataFrame(cpgs)\n",
    "\n",
    "# Only select a single value per gene, to prevent duplicates\n",
    "\n",
    "cpgs = cpgs[['gene','CRISPRoff_average', 'mutant_average']]\n",
    "cpgs = cpgs.sort_values([\"gene\",'CRISPRoff_average'], ascending = True).drop_duplicates(subset = 'gene', keep = 'first')"
   ]
  },
  {
   "cell_type": "code",
   "execution_count": 12,
   "id": "3b1dcda8",
   "metadata": {},
   "outputs": [],
   "source": [
    "df = pd.merge(how = 'outer', left = Promoter_sequences, right = cpgs, left_on = 'Gene', right_on = 'gene')\n",
    "df = df.loc[df.Gene.notna()]\n",
    "df = df.reset_index()"
   ]
  },
  {
   "cell_type": "code",
   "execution_count": 108,
   "id": "a4851a98",
   "metadata": {},
   "outputs": [],
   "source": [
    "df = df.dropna()"
   ]
  },
  {
   "cell_type": "code",
   "execution_count": 13,
   "id": "6c4f9f68",
   "metadata": {},
   "outputs": [],
   "source": [
    "irbs = pd.read_csv('wgEncodeHaibMethylRrbsK562HaibSitesRep1.bed', sep='\\t', header = 0)\n",
    "#Extract only the values with 100% Certainty of methylation \n",
    "irbs = irbs[irbs['Unnamed: 8'] == '255,0,0']\n",
    "\n",
    "chromosome_list = np.unique(irbs.track)"
   ]
  },
  {
   "cell_type": "markdown",
   "id": "7100632f",
   "metadata": {},
   "source": [
    "### 2 Kmers"
   ]
  },
  {
   "cell_type": "code",
   "execution_count": 7,
   "id": "5acf5522",
   "metadata": {},
   "outputs": [],
   "source": [
    "tmp = np.zeros((len(df),3001))\n",
    "\n",
    "for index, chromosomes in enumerate(chromosome_list):\n",
    "    \n",
    "    table = irbs[irbs['track'] == chromosomes]\n",
    "    table2 = df[df.chromosome == chromosomes]\n",
    "\n",
    "    for i, x in enumerate(table['name=\"SL725.1']):\n",
    "\n",
    "\n",
    "        for o, z in enumerate(table2[\"Primary TSS, 3'\"]):\n",
    "\n",
    "            if (x > (z - 1500) and (x < (z + 1500))) == True:\n",
    "                y = x - (z - 1500)\n",
    "                #print((z - 1500), z,  (z + 1500))\n",
    "                #print('CpG Islands found in:', x, 'Position on vector:', y,\"in row\", Promoter_sequences['gene'][o], o + 1)    \n",
    "\n",
    "                tmp[df.level_0[df[\"Primary TSS, 3'\"] == z ].iloc[-1] + 1][int(y)] = 1"
   ]
  },
  {
   "cell_type": "code",
   "execution_count": 15,
   "id": "58f9b1b5",
   "metadata": {},
   "outputs": [],
   "source": [
    "kmer_length = 2\n",
    "\n",
    "def getKmers(sequence, size):\n",
    "    return [sequence[x:x+size].lower() for x in range(len(sequence) - size + 1)]"
   ]
  },
  {
   "cell_type": "code",
   "execution_count": 17,
   "id": "f0125239",
   "metadata": {},
   "outputs": [],
   "source": [
    "from collections import Counter\n",
    "\n",
    "def Count_kmer(a_table, gc_elements, kmer):\n",
    "\n",
    "    sequence = getKmers(str(a_table), kmer)\n",
    "\n",
    "    gc_kmers = []\n",
    "    gc_counts = Counter(sequence)\n",
    "\n",
    "    for index, element in enumerate(gc_elements):\n",
    "\n",
    "        if element in (dict(gc_counts)):\n",
    "            gc_kmers.append((dict(gc_counts)[gc_elements[index]]))\n",
    "        \n",
    "        else:\n",
    "            gc_kmers.append(0)\n",
    "            #print(element, 'not in kmers')\n",
    "            \n",
    "    return(sum(gc_kmers)/3000*100)\n",
    "\n",
    "#Promoter_sequences['kmers'] = Promoter_sequences.Sequences.apply(lambda x: Count_kmer(x, ['gg','cc','gc','cg'], 2))\n",
    "\n",
    "Sequences_GC_kmers = [Count_kmer(i, ['gc'], 2) for i in df.Sequences]"
   ]
  },
  {
   "cell_type": "code",
   "execution_count": 32,
   "id": "696cccec",
   "metadata": {},
   "outputs": [],
   "source": [
    "kmers_2 = np.unique(getKmers(df.Sequences[1], 2))"
   ]
  },
  {
   "cell_type": "code",
   "execution_count": 45,
   "id": "b732e215",
   "metadata": {},
   "outputs": [
    {
     "data": {
      "text/plain": [
       "8.733333333333333"
      ]
     },
     "execution_count": 45,
     "metadata": {},
     "output_type": "execute_result"
    }
   ],
   "source": [
    "Count_kmer(df.Sequences[1], ['aa'], 2)"
   ]
  },
  {
   "cell_type": "code",
   "execution_count": 109,
   "id": "2e403cfd",
   "metadata": {},
   "outputs": [],
   "source": [
    "DNA_features = pd.DataFrame(index = range(len(df.Sequences)), columns = kmers_2)"
   ]
  },
  {
   "cell_type": "code",
   "execution_count": 110,
   "id": "e9283eeb",
   "metadata": {},
   "outputs": [],
   "source": [
    "\n",
    "for i, o in enumerate(df.Sequences[:]):\n",
    "    for x in kmers_2:\n",
    "        DNA_features[x][i] = Count_kmer(o, [x], 2)\n"
   ]
  },
  {
   "cell_type": "code",
   "execution_count": 111,
   "id": "d6180717",
   "metadata": {},
   "outputs": [
    {
     "data": {
      "text/html": [
       "<div>\n",
       "<style scoped>\n",
       "    .dataframe tbody tr th:only-of-type {\n",
       "        vertical-align: middle;\n",
       "    }\n",
       "\n",
       "    .dataframe tbody tr th {\n",
       "        vertical-align: top;\n",
       "    }\n",
       "\n",
       "    .dataframe thead th {\n",
       "        text-align: right;\n",
       "    }\n",
       "</style>\n",
       "<table border=\"1\" class=\"dataframe\">\n",
       "  <thead>\n",
       "    <tr style=\"text-align: right;\">\n",
       "      <th></th>\n",
       "      <th>aa</th>\n",
       "      <th>ac</th>\n",
       "      <th>ag</th>\n",
       "      <th>at</th>\n",
       "      <th>ca</th>\n",
       "      <th>cc</th>\n",
       "      <th>cg</th>\n",
       "      <th>ct</th>\n",
       "      <th>ga</th>\n",
       "      <th>gc</th>\n",
       "      <th>gg</th>\n",
       "      <th>gt</th>\n",
       "      <th>ta</th>\n",
       "      <th>tc</th>\n",
       "      <th>tg</th>\n",
       "      <th>tt</th>\n",
       "    </tr>\n",
       "  </thead>\n",
       "  <tbody>\n",
       "    <tr>\n",
       "      <th>0</th>\n",
       "      <td>7.4</td>\n",
       "      <td>5.4</td>\n",
       "      <td>9.033333</td>\n",
       "      <td>3.633333</td>\n",
       "      <td>8.033333</td>\n",
       "      <td>9.466667</td>\n",
       "      <td>3.733333</td>\n",
       "      <td>6.566667</td>\n",
       "      <td>7.266667</td>\n",
       "      <td>7.766667</td>\n",
       "      <td>9.933333</td>\n",
       "      <td>4.1</td>\n",
       "      <td>2.766667</td>\n",
       "      <td>5.133333</td>\n",
       "      <td>6.366667</td>\n",
       "      <td>3.4</td>\n",
       "    </tr>\n",
       "    <tr>\n",
       "      <th>1</th>\n",
       "      <td>8.733333</td>\n",
       "      <td>5.366667</td>\n",
       "      <td>5.433333</td>\n",
       "      <td>8.7</td>\n",
       "      <td>8.166667</td>\n",
       "      <td>5.366667</td>\n",
       "      <td>0.533333</td>\n",
       "      <td>8.166667</td>\n",
       "      <td>4.5</td>\n",
       "      <td>3.933333</td>\n",
       "      <td>3.566667</td>\n",
       "      <td>4.8</td>\n",
       "      <td>6.833333</td>\n",
       "      <td>7.566667</td>\n",
       "      <td>7.266667</td>\n",
       "      <td>11.066667</td>\n",
       "    </tr>\n",
       "    <tr>\n",
       "      <th>2</th>\n",
       "      <td>9.333333</td>\n",
       "      <td>5.2</td>\n",
       "      <td>6.566667</td>\n",
       "      <td>7.866667</td>\n",
       "      <td>7.4</td>\n",
       "      <td>5.266667</td>\n",
       "      <td>0.766667</td>\n",
       "      <td>7.866667</td>\n",
       "      <td>6.0</td>\n",
       "      <td>3.766667</td>\n",
       "      <td>4.3</td>\n",
       "      <td>5.0</td>\n",
       "      <td>6.266667</td>\n",
       "      <td>7.066667</td>\n",
       "      <td>7.4</td>\n",
       "      <td>9.933333</td>\n",
       "    </tr>\n",
       "    <tr>\n",
       "      <th>3</th>\n",
       "      <td>8.6</td>\n",
       "      <td>5.466667</td>\n",
       "      <td>7.0</td>\n",
       "      <td>5.166667</td>\n",
       "      <td>6.266667</td>\n",
       "      <td>7.0</td>\n",
       "      <td>1.4</td>\n",
       "      <td>8.7</td>\n",
       "      <td>6.0</td>\n",
       "      <td>4.6</td>\n",
       "      <td>6.433333</td>\n",
       "      <td>5.466667</td>\n",
       "      <td>5.366667</td>\n",
       "      <td>6.3</td>\n",
       "      <td>7.666667</td>\n",
       "      <td>8.566667</td>\n",
       "    </tr>\n",
       "    <tr>\n",
       "      <th>4</th>\n",
       "      <td>4.466667</td>\n",
       "      <td>6.2</td>\n",
       "      <td>6.366667</td>\n",
       "      <td>3.8</td>\n",
       "      <td>8.266667</td>\n",
       "      <td>14.5</td>\n",
       "      <td>5.2</td>\n",
       "      <td>7.466667</td>\n",
       "      <td>4.233333</td>\n",
       "      <td>8.1</td>\n",
       "      <td>6.433333</td>\n",
       "      <td>4.4</td>\n",
       "      <td>3.9</td>\n",
       "      <td>6.6</td>\n",
       "      <td>5.166667</td>\n",
       "      <td>4.9</td>\n",
       "    </tr>\n",
       "    <tr>\n",
       "      <th>...</th>\n",
       "      <td>...</td>\n",
       "      <td>...</td>\n",
       "      <td>...</td>\n",
       "      <td>...</td>\n",
       "      <td>...</td>\n",
       "      <td>...</td>\n",
       "      <td>...</td>\n",
       "      <td>...</td>\n",
       "      <td>...</td>\n",
       "      <td>...</td>\n",
       "      <td>...</td>\n",
       "      <td>...</td>\n",
       "      <td>...</td>\n",
       "      <td>...</td>\n",
       "      <td>...</td>\n",
       "      <td>...</td>\n",
       "    </tr>\n",
       "    <tr>\n",
       "      <th>18745</th>\n",
       "      <td>6.5</td>\n",
       "      <td>3.933333</td>\n",
       "      <td>6.333333</td>\n",
       "      <td>4.5</td>\n",
       "      <td>5.333333</td>\n",
       "      <td>7.366667</td>\n",
       "      <td>5.833333</td>\n",
       "      <td>6.433333</td>\n",
       "      <td>5.4</td>\n",
       "      <td>7.833333</td>\n",
       "      <td>8.966667</td>\n",
       "      <td>6.233333</td>\n",
       "      <td>4.0</td>\n",
       "      <td>5.833333</td>\n",
       "      <td>7.333333</td>\n",
       "      <td>8.166667</td>\n",
       "    </tr>\n",
       "    <tr>\n",
       "      <th>18746</th>\n",
       "      <td>7.4</td>\n",
       "      <td>3.2</td>\n",
       "      <td>8.4</td>\n",
       "      <td>4.966667</td>\n",
       "      <td>4.966667</td>\n",
       "      <td>7.133333</td>\n",
       "      <td>3.3</td>\n",
       "      <td>7.166667</td>\n",
       "      <td>7.4</td>\n",
       "      <td>5.966667</td>\n",
       "      <td>7.766667</td>\n",
       "      <td>5.266667</td>\n",
       "      <td>4.2</td>\n",
       "      <td>6.266667</td>\n",
       "      <td>6.933333</td>\n",
       "      <td>9.666667</td>\n",
       "    </tr>\n",
       "    <tr>\n",
       "      <th>18747</th>\n",
       "      <td>3.566667</td>\n",
       "      <td>3.6</td>\n",
       "      <td>7.366667</td>\n",
       "      <td>2.266667</td>\n",
       "      <td>4.766667</td>\n",
       "      <td>13.1</td>\n",
       "      <td>6.766667</td>\n",
       "      <td>7.233333</td>\n",
       "      <td>6.766667</td>\n",
       "      <td>8.633333</td>\n",
       "      <td>14.066667</td>\n",
       "      <td>4.466667</td>\n",
       "      <td>1.733333</td>\n",
       "      <td>6.533333</td>\n",
       "      <td>5.7</td>\n",
       "      <td>3.433333</td>\n",
       "    </tr>\n",
       "    <tr>\n",
       "      <th>18748</th>\n",
       "      <td>7.4</td>\n",
       "      <td>6.8</td>\n",
       "      <td>6.933333</td>\n",
       "      <td>5.3</td>\n",
       "      <td>8.5</td>\n",
       "      <td>6.7</td>\n",
       "      <td>2.166667</td>\n",
       "      <td>8.6</td>\n",
       "      <td>5.566667</td>\n",
       "      <td>5.466667</td>\n",
       "      <td>5.2</td>\n",
       "      <td>4.666667</td>\n",
       "      <td>4.933333</td>\n",
       "      <td>7.0</td>\n",
       "      <td>6.6</td>\n",
       "      <td>8.166667</td>\n",
       "    </tr>\n",
       "    <tr>\n",
       "      <th>18749</th>\n",
       "      <td>15.7</td>\n",
       "      <td>5.466667</td>\n",
       "      <td>6.466667</td>\n",
       "      <td>8.8</td>\n",
       "      <td>6.933333</td>\n",
       "      <td>3.6</td>\n",
       "      <td>0.666667</td>\n",
       "      <td>6.766667</td>\n",
       "      <td>4.8</td>\n",
       "      <td>2.5</td>\n",
       "      <td>2.533333</td>\n",
       "      <td>4.366667</td>\n",
       "      <td>8.966667</td>\n",
       "      <td>6.4</td>\n",
       "      <td>4.566667</td>\n",
       "      <td>11.466667</td>\n",
       "    </tr>\n",
       "  </tbody>\n",
       "</table>\n",
       "<p>18750 rows × 16 columns</p>\n",
       "</div>"
      ],
      "text/plain": [
       "             aa        ac        ag        at        ca        cc        cg  \\\n",
       "0           7.4       5.4  9.033333  3.633333  8.033333  9.466667  3.733333   \n",
       "1      8.733333  5.366667  5.433333       8.7  8.166667  5.366667  0.533333   \n",
       "2      9.333333       5.2  6.566667  7.866667       7.4  5.266667  0.766667   \n",
       "3           8.6  5.466667       7.0  5.166667  6.266667       7.0       1.4   \n",
       "4      4.466667       6.2  6.366667       3.8  8.266667      14.5       5.2   \n",
       "...         ...       ...       ...       ...       ...       ...       ...   \n",
       "18745       6.5  3.933333  6.333333       4.5  5.333333  7.366667  5.833333   \n",
       "18746       7.4       3.2       8.4  4.966667  4.966667  7.133333       3.3   \n",
       "18747  3.566667       3.6  7.366667  2.266667  4.766667      13.1  6.766667   \n",
       "18748       7.4       6.8  6.933333       5.3       8.5       6.7  2.166667   \n",
       "18749      15.7  5.466667  6.466667       8.8  6.933333       3.6  0.666667   \n",
       "\n",
       "             ct        ga        gc         gg        gt        ta        tc  \\\n",
       "0      6.566667  7.266667  7.766667   9.933333       4.1  2.766667  5.133333   \n",
       "1      8.166667       4.5  3.933333   3.566667       4.8  6.833333  7.566667   \n",
       "2      7.866667       6.0  3.766667        4.3       5.0  6.266667  7.066667   \n",
       "3           8.7       6.0       4.6   6.433333  5.466667  5.366667       6.3   \n",
       "4      7.466667  4.233333       8.1   6.433333       4.4       3.9       6.6   \n",
       "...         ...       ...       ...        ...       ...       ...       ...   \n",
       "18745  6.433333       5.4  7.833333   8.966667  6.233333       4.0  5.833333   \n",
       "18746  7.166667       7.4  5.966667   7.766667  5.266667       4.2  6.266667   \n",
       "18747  7.233333  6.766667  8.633333  14.066667  4.466667  1.733333  6.533333   \n",
       "18748       8.6  5.566667  5.466667        5.2  4.666667  4.933333       7.0   \n",
       "18749  6.766667       4.8       2.5   2.533333  4.366667  8.966667       6.4   \n",
       "\n",
       "             tg         tt  \n",
       "0      6.366667        3.4  \n",
       "1      7.266667  11.066667  \n",
       "2           7.4   9.933333  \n",
       "3      7.666667   8.566667  \n",
       "4      5.166667        4.9  \n",
       "...         ...        ...  \n",
       "18745  7.333333   8.166667  \n",
       "18746  6.933333   9.666667  \n",
       "18747       5.7   3.433333  \n",
       "18748       6.6   8.166667  \n",
       "18749  4.566667  11.466667  \n",
       "\n",
       "[18750 rows x 16 columns]"
      ]
     },
     "execution_count": 111,
     "metadata": {},
     "output_type": "execute_result"
    }
   ],
   "source": [
    "DNA_features"
   ]
  },
  {
   "cell_type": "code",
   "execution_count": 112,
   "id": "6c24af03",
   "metadata": {},
   "outputs": [],
   "source": [
    "DNA_array = np.array(DNA_features.astype('int'))\n",
    "DNA_array = np.array(DNA_features)\n",
    "\n",
    "feature_list = list(DNA_features.columns)"
   ]
  },
  {
   "cell_type": "code",
   "execution_count": 113,
   "id": "9d07086b",
   "metadata": {},
   "outputs": [],
   "source": [
    "# Using Skicit-learn to split data into training and testing sets\n",
    "from sklearn.model_selection import train_test_split\n",
    "# Split the data into training and testing sets\n",
    "train_features, test_features, train_labels, test_labels = train_test_split(DNA_array, df.CRISPRoff_average, test_size = 0.25, random_state = 42)"
   ]
  },
  {
   "cell_type": "code",
   "execution_count": 114,
   "id": "8b1167c3",
   "metadata": {},
   "outputs": [
    {
     "name": "stdout",
     "output_type": "stream",
     "text": [
      "Average baseline error:  5.56\n"
     ]
    }
   ],
   "source": [
    "# The baseline predictions are the historical averages\n",
    "baseline_preds = test_features[:, feature_list.index('at')]\n",
    "# Baseline errors, and display average baseline error\n",
    "baseline_errors = abs(baseline_preds - test_labels)\n",
    "print('Average baseline error: ', round(np.mean(baseline_errors), 2))"
   ]
  },
  {
   "cell_type": "code",
   "execution_count": 115,
   "id": "0f2d5280",
   "metadata": {},
   "outputs": [],
   "source": [
    "# Import the model we are using\n",
    "from sklearn.ensemble import RandomForestRegressor\n",
    "\n",
    "# Instantiate model with 1000 decision trees\n",
    "rf = RandomForestRegressor( random_state = 42)\n",
    "\n",
    "# Train the model on training data\n",
    "rf.fit(train_features, train_labels)"
   ]
  },
  {
   "cell_type": "code",
   "execution_count": 116,
   "id": "108de299",
   "metadata": {},
   "outputs": [
    {
     "name": "stdout",
     "output_type": "stream",
     "text": [
      "Mean Absolute Error: 0.07 degrees.\n"
     ]
    }
   ],
   "source": [
    "# Use the forest's predict method on the test data\n",
    "predictions = rf.predict(test_features)\n",
    "# Calculate the absolute errors\n",
    "errors = abs(predictions - test_labels)\n",
    "# Print out the mean absolute error (mae)\n",
    "print('Mean Absolute Error:', round(np.mean(errors), 2), 'degrees.')"
   ]
  },
  {
   "cell_type": "code",
   "execution_count": 119,
   "id": "373a04a5",
   "metadata": {},
   "outputs": [
    {
     "name": "stdout",
     "output_type": "stream",
     "text": [
      "Accuracy: -29.69 %.\n"
     ]
    }
   ],
   "source": [
    "# Calculate mean absolute percentage error (MAPE)\n",
    "mape = 100 * (errors / test_labels)\n",
    "# Calculate and display accuracy\n",
    "accuracy = 100 - np.mean(mape)\n",
    "print('Accuracy:', round(accuracy, 2), '%.')\n"
   ]
  },
  {
   "cell_type": "code",
   "execution_count": 120,
   "id": "292a0f30",
   "metadata": {},
   "outputs": [],
   "source": [
    "# Import tools needed for visualization\n",
    "from sklearn.tree import export_graphviz\n",
    "import pydot\n",
    "# Pull out one tree from the forest\n",
    "tree = rf.estimators_[5]\n",
    "# Import tools needed for visualization\n",
    "from sklearn.tree import export_graphviz\n",
    "import pydot\n",
    "# Pull out one tree from the forest\n",
    "tree = rf.estimators_[5]\n",
    "# Export the image to a dot file\n",
    "export_graphviz(tree, out_file = 'tree.dot', feature_names = feature_list, rounded = True, precision = 1)\n",
    "# Use dot file to create a graph\n",
    "(graph, ) = pydot.graph_from_dot_file('tree.dot')\n",
    "# Write graph to a png file\n",
    "graph.write_png('tree.png')"
   ]
  },
  {
   "cell_type": "code",
   "execution_count": 121,
   "id": "7ef67511",
   "metadata": {},
   "outputs": [],
   "source": [
    "# Limit depth of tree to 3 levels\n",
    "rf_small = RandomForestRegressor(n_estimators=10, max_depth = 3)\n",
    "rf_small.fit(train_features, train_labels)\n",
    "# Extract the small tree\n",
    "tree_small = rf_small.estimators_[5]\n",
    "# Save the tree as a png image\n",
    "export_graphviz(tree_small, out_file = 'small_tree.dot', feature_names = feature_list, rounded = True, precision = 1)\n",
    "(graph, ) = pydot.graph_from_dot_file('small_tree.dot')\n",
    "graph.write_png('small_tree.png');"
   ]
  },
  {
   "cell_type": "code",
   "execution_count": 123,
   "id": "61de0078",
   "metadata": {},
   "outputs": [
    {
     "name": "stdout",
     "output_type": "stream",
     "text": [
      "Variable: aa                   Importance: 0.07\n",
      "Variable: ac                   Importance: 0.07\n",
      "Variable: cg                   Importance: 0.07\n",
      "Variable: ag                   Importance: 0.06\n",
      "Variable: ca                   Importance: 0.06\n",
      "Variable: cc                   Importance: 0.06\n",
      "Variable: ct                   Importance: 0.06\n",
      "Variable: ga                   Importance: 0.06\n",
      "Variable: gc                   Importance: 0.06\n",
      "Variable: gg                   Importance: 0.06\n",
      "Variable: gt                   Importance: 0.06\n",
      "Variable: ta                   Importance: 0.06\n",
      "Variable: tc                   Importance: 0.06\n",
      "Variable: tg                   Importance: 0.06\n",
      "Variable: tt                   Importance: 0.06\n",
      "Variable: at                   Importance: 0.05\n"
     ]
    }
   ],
   "source": [
    "# Get numerical feature importances\n",
    "importances = list(rf.feature_importances_)\n",
    "# List of tuples with variable and importance\n",
    "feature_importances = [(feature, round(importance, 2)) for feature, importance in zip(feature_list, importances)]\n",
    "# Sort the feature importances by most important first\n",
    "feature_importances = sorted(feature_importances, key = lambda x: x[1], reverse = True)\n",
    "# Print out the feature and importances \n",
    "[print('Variable: {:20} Importance: {}'.format(*pair)) for pair in feature_importances];"
   ]
  },
  {
   "cell_type": "code",
   "execution_count": 124,
   "id": "2b2b0564",
   "metadata": {},
   "outputs": [
    {
     "data": {
      "image/png": "[encoded data removed]",
      "text/plain": [
       "<Figure size 432x288 with 1 Axes>"
      ]
     },
     "metadata": {},
     "output_type": "display_data"
    }
   ],
   "source": [
    "# Import matplotlib for plotting and use magic command for Jupyter Notebooks\n",
    "import matplotlib.pyplot as plt\n",
    "%matplotlib inline\n",
    "# Set the style\n",
    "plt.style.use('fivethirtyeight')\n",
    "# list of x locations for plotting\n",
    "x_values = list(range(len(importances)))\n",
    "# Make a bar chart\n",
    "plt.bar(x_values, importances, orientation = 'vertical')\n",
    "# Tick labels for x axis\n",
    "plt.xticks(x_values, feature_list, rotation='vertical')\n",
    "# Axis labels and title\n",
    "plt.ylabel('Importance'); plt.xlabel('Variable'); plt.title('Variable Importances');"
   ]
  },
  {
   "cell_type": "markdown",
   "id": "2fd27325",
   "metadata": {},
   "source": [
    "### KMERS 3"
   ]
  },
  {
   "cell_type": "code",
   "execution_count": 128,
   "id": "f7136658",
   "metadata": {},
   "outputs": [],
   "source": [
    "kmer_length = 3\n",
    "\n",
    "def getKmers(sequence, size):\n",
    "    return [sequence[x:x+size].lower() for x in range(len(sequence) - size + 1)]"
   ]
  },
  {
   "cell_type": "code",
   "execution_count": 129,
   "id": "8adb5008",
   "metadata": {},
   "outputs": [],
   "source": [
    "kmers_3 = np.unique(getKmers(df.Sequences[1], 3))"
   ]
  },
  {
   "cell_type": "code",
   "execution_count": 130,
   "id": "a099238f",
   "metadata": {},
   "outputs": [],
   "source": [
    "DNA_features = pd.DataFrame(index = range(len(df.Sequences)), columns = kmers_3)"
   ]
  },
  {
   "cell_type": "code",
   "execution_count": 132,
   "id": "15eebfc3",
   "metadata": {},
   "outputs": [],
   "source": [
    "for i, o in enumerate(df.Sequences[:]):\n",
    "    for x in kmers_3:\n",
    "        DNA_features[x][i] = Count_kmer(o, [x], 3)\n"
   ]
  },
  {
   "cell_type": "code",
   "execution_count": null,
   "id": "9d651a62",
   "metadata": {},
   "outputs": [],
   "source": [
    "DNA_array = np.array(DNA_features.astype('int'))\n",
    "DNA_array = np.array(DNA_features)\n",
    "\n",
    "feature_list = list(DNA_features.columns)"
   ]
  },
  {
   "cell_type": "code",
   "execution_count": null,
   "id": "4ddb69ad",
   "metadata": {},
   "outputs": [],
   "source": [
    "# Using Skicit-learn to split data into training and testing sets\n",
    "from sklearn.model_selection import train_test_split\n",
    "# Split the data into training and testing sets\n",
    "train_features, test_features, train_labels, test_labels = train_test_split(DNA_array, df.CRISPRoff_average, test_size = 0.25, random_state = 42)\n",
    "\n",
    "# Import the model we are using\n",
    "from sklearn.ensemble import RandomForestRegressor\n",
    "\n",
    "# Instantiate model with 1000 decision trees\n",
    "rf = RandomForestRegressor( random_state = 42)\n",
    "\n",
    "# Train the model on training data\n",
    "rf.fit(train_features, train_labels)\n",
    "\n",
    "# Use the forest's predict method on the test data\n",
    "predictions = rf.predict(test_features)\n",
    "# Calculate the absolute errors\n",
    "errors = abs(predictions - test_labels)\n",
    "# Print out the mean absolute error (mae)\n",
    "print('Mean Absolute Error:', round(np.mean(errors), 2), 'degrees.')\n",
    "\n",
    "# Calculate mean absolute percentage error (MAPE)\n",
    "mape = 100 * (errors / test_labels)\n",
    "# Calculate and display accuracy\n",
    "accuracy = 100 - np.mean(mape)\n",
    "print('Accuracy:', round(accuracy, 2), '%.')\n",
    "\n",
    "# Get numerical feature importances\n",
    "importances = list(rf.feature_importances_)\n",
    "# List of tuples with variable and importance\n",
    "feature_importances = [(feature, round(importance, 2)) for feature, importance in zip(feature_list, importances)]\n",
    "# Sort the feature importances by most important first\n",
    "feature_importances = sorted(feature_importances, key = lambda x: x[1], reverse = True)\n",
    "# Print out the feature and importances \n",
    "[print('Variable: {:20} Importance: {}'.format(*pair)) for pair in feature_importances];\n",
    "\n",
    "\n",
    "# Import matplotlib for plotting and use magic command for Jupyter Notebooks\n",
    "import matplotlib.pyplot as plt\n",
    "%matplotlib inline\n",
    "# Set the style\n",
    "plt.style.use('fivethirtyeight')\n",
    "# list of x locations for plotting\n",
    "x_values = list(range(len(importances)))\n",
    "# Make a bar chart\n",
    "plt.bar(x_values, importances, orientation = 'vertical')\n",
    "# Tick labels for x axis\n",
    "plt.xticks(x_values, feature_list, rotation='vertical')\n",
    "# Axis labels and title\n",
    "plt.ylabel('Importance'); plt.xlabel('Variable'); plt.title('Variable Importances');"
   ]
  }
 ],
 "metadata": {
  "kernelspec": {
   "display_name": "Python 3 (ipykernel)",
   "language": "python",
   "name": "python3"
  },
  "language_info": {
   "codemirror_mode": {
    "name": "ipython",
    "version": 3
   },
   "file_extension": ".py",
   "mimetype": "text/x-python",
   "name": "python",
   "nbconvert_exporter": "python",
   "pygments_lexer": "ipython3",
   "version": "3.9.12"
  }
 },
 "nbformat": 4,
 "nbformat_minor": 5
}
